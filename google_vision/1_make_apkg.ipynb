{
 "cells": [
  {
   "cell_type": "markdown",
   "id": "5286d4efc0f0009e",
   "metadata": {},
   "source": [
    "# anki\n",
    "anki 카드를 만들고 .apkg 파일로 내보내기\n",
    "\n",
    "\n"
   ]
  },
  {
   "cell_type": "code",
   "execution_count": 1,
   "id": "470adf418b72bbd3",
   "metadata": {
    "ExecuteTime": {
     "end_time": "2024-04-08T02:32:11.712842Z",
     "start_time": "2024-04-08T02:32:08.625204Z"
    }
   },
   "outputs": [
    {
     "name": "stdout",
     "output_type": "stream",
     "text": [
      "Requirement already satisfied: genanki in /opt/anaconda3/envs/pythonProject/lib/python3.11/site-packages (0.13.1)\r\n",
      "Requirement already satisfied: cached-property in /opt/anaconda3/envs/pythonProject/lib/python3.11/site-packages (from genanki) (1.5.2)\r\n",
      "Requirement already satisfied: frozendict in /opt/anaconda3/envs/pythonProject/lib/python3.11/site-packages (from genanki) (2.4.1)\r\n",
      "Requirement already satisfied: chevron in /opt/anaconda3/envs/pythonProject/lib/python3.11/site-packages (from genanki) (0.14.0)\r\n",
      "Requirement already satisfied: pyyaml in /opt/anaconda3/envs/pythonProject/lib/python3.11/site-packages (from genanki) (6.0.1)\r\n",
      "\u001B[33mDEPRECATION: textract 1.6.5 has a non-standard dependency specifier extract-msg<=0.29.*. pip 24.0 will enforce this behaviour change. A possible replacement is to upgrade to a newer version of textract or contact the author to suggest that they release a version with a conforming dependency specifiers. Discussion can be found at https://github.com/pypa/pip/issues/12063\u001B[0m\u001B[33m\r\n",
      "\u001B[0mNote: you may need to restart the kernel to use updated packages.\n"
     ]
    }
   ],
   "source": "%pip install genanki"
  },
  {
   "cell_type": "markdown",
   "id": "c21239914da3b9f5",
   "metadata": {},
   "source": [
    "### 간단예제\n"
   ]
  },
  {
   "cell_type": "code",
   "execution_count": 2,
   "id": "fd1a87260b4f0013",
   "metadata": {
    "ExecuteTime": {
     "end_time": "2024-04-08T02:32:11.792931Z",
     "start_time": "2024-04-08T02:32:11.717386Z"
    }
   },
   "outputs": [
    {
     "name": "stdout",
     "output_type": "stream",
     "text": [
      "Anki 패키지 생성 완료!\n"
     ]
    }
   ],
   "source": [
    "\n",
    "import genanki\n",
    "\n",
    "# 질문과 정답을 리스트로 정의\n",
    "questions_answers = [\n",
    "    (\"다음 중 다른 데이터와 연결하여 분석하는 맵리듀스 패턴으로 올바른 것은?\", \"① 조인 패턴\"),\n",
    "    (\"다음 중 네트워크상에서 여러 호스트 컴퓨터의 공유된 데이터에 접근하는 올바른 방식은?\", \"① 분산 파일 시스템\"),\n",
    "    (\"다음 중 공공데이터와 같은 외부 데이터를 사용할 때의 장점으로 올바른 것은?\", \"① 비용이 상대적으로 낮다.\"),\n",
    "    (\"다음 중 데이터 정제에 대한 설명으로 옳지 않은 것은?\", \"④ 결측치 처리\"),\n",
    "    (\"다음 중 빅데이터 시대의 위험 요인으로 옳지 않은 것은?\", \"③ 인간-인간 상호작용 위기\"),\n",
    "]\n",
    "\n",
    "# genanki 덱 ID와 덱 이름 정의\n",
    "my_deck = genanki.Deck(\n",
    "    123456789,\n",
    "    '데이터 분석 기초 덱'\n",
    ")\n",
    "\n",
    "# genanki 모델(카드 형식) 정의\n",
    "my_model = genanki.Model(\n",
    "    123456789,\n",
    "    '기본 모델',\n",
    "    fields=[\n",
    "        {'name': 'Question'},\n",
    "        {'name': 'Answer'},\n",
    "    ],\n",
    "    templates=[\n",
    "        {\n",
    "            'name': 'Card 1',\n",
    "            'qfmt': '{{Question}}',\n",
    "            'afmt': '{{FrontSide}}<hr id=\"answer\">{{Answer}}',\n",
    "        },\n",
    "    ])\n",
    "\n",
    "# 질문과 정답을 Anki 노트로 변환하고 덱에 추가\n",
    "for qa in questions_answers:\n",
    "    note = genanki.Note(\n",
    "        model=my_model,\n",
    "        fields=[qa[0], qa[1]]\n",
    "    )\n",
    "    my_deck.add_note(note)\n",
    "\n",
    "# .apkg 파일 생성\n",
    "genanki.Package(my_deck).write_to_file('data_analysis_basic_deck.apkg')\n",
    "\n",
    "print(\"Anki 패키지 생성 완료!\")\n",
    "\n"
   ]
  }
 ],
 "metadata": {
  "kernelspec": {
   "display_name": "Python 3 (ipykernel)",
   "language": "python",
   "name": "python3"
  },
  "language_info": {
   "codemirror_mode": {
    "name": "ipython",
    "version": 3
   },
   "file_extension": ".py",
   "mimetype": "text/x-python",
   "name": "python",
   "nbconvert_exporter": "python",
   "pygments_lexer": "ipython3",
   "version": "3.11.8"
  }
 },
 "nbformat": 4,
 "nbformat_minor": 5
}
